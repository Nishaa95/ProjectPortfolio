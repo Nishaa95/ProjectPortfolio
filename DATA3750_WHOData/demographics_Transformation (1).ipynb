{
 "cells": [
  {
   "cell_type": "code",
   "execution_count": 8,
   "id": "4976fa1b",
   "metadata": {},
   "outputs": [],
   "source": [
    "import pandas as pd\n",
    "import numpy as np\n",
    "\n"
   ]
  },
  {
   "cell_type": "code",
   "execution_count": 9,
   "id": "88fb8730",
   "metadata": {},
   "outputs": [
    {
     "data": {
      "text/html": [
       "<div>\n",
       "<style scoped>\n",
       "    .dataframe tbody tr th:only-of-type {\n",
       "        vertical-align: middle;\n",
       "    }\n",
       "\n",
       "    .dataframe tbody tr th {\n",
       "        vertical-align: top;\n",
       "    }\n",
       "\n",
       "    .dataframe thead th {\n",
       "        text-align: right;\n",
       "    }\n",
       "</style>\n",
       "<table border=\"1\" class=\"dataframe\">\n",
       "  <thead>\n",
       "    <tr style=\"text-align: right;\">\n",
       "      <th></th>\n",
       "      <th>WHO region</th>\n",
       "      <th>Total population (Gapminder, UN Population Division)</th>\n",
       "      <th>Life expectancy - interpolated (Gapminder, UN, IHME)</th>\n",
       "      <th>Life expectancy - non-interpolated (Gapminder, UN, IHME)</th>\n",
       "      <th>Fertility rate (Complete Gapminder, v12) (2017)</th>\n",
       "      <th>Entity</th>\n",
       "      <th>Year</th>\n",
       "      <th>Real GDP per capita in 2011US$, 2011 benchmark (Maddison Project Database (2018))</th>\n",
       "      <th>Total real GDP in 2011US$, 2011 benchmark (Maddison Project Database (2018))</th>\n",
       "    </tr>\n",
       "  </thead>\n",
       "  <tbody>\n",
       "    <tr>\n",
       "      <th>0</th>\n",
       "      <td>Eastern Mediterranean</td>\n",
       "      <td>3280000.0</td>\n",
       "      <td>28.006067</td>\n",
       "      <td>NaN</td>\n",
       "      <td>7.00</td>\n",
       "      <td>Afghanistan</td>\n",
       "      <td>1820</td>\n",
       "      <td>NaN</td>\n",
       "      <td>NaN</td>\n",
       "    </tr>\n",
       "    <tr>\n",
       "      <th>1</th>\n",
       "      <td>Eastern Mediterranean</td>\n",
       "      <td>4207000.0</td>\n",
       "      <td>27.493732</td>\n",
       "      <td>NaN</td>\n",
       "      <td>7.00</td>\n",
       "      <td>Afghanistan</td>\n",
       "      <td>1870</td>\n",
       "      <td>NaN</td>\n",
       "      <td>NaN</td>\n",
       "    </tr>\n",
       "    <tr>\n",
       "      <th>2</th>\n",
       "      <td>Eastern Mediterranean</td>\n",
       "      <td>5730000.0</td>\n",
       "      <td>27.053127</td>\n",
       "      <td>NaN</td>\n",
       "      <td>7.00</td>\n",
       "      <td>Afghanistan</td>\n",
       "      <td>1913</td>\n",
       "      <td>NaN</td>\n",
       "      <td>NaN</td>\n",
       "    </tr>\n",
       "    <tr>\n",
       "      <th>3</th>\n",
       "      <td>Eastern Mediterranean</td>\n",
       "      <td>7752118.0</td>\n",
       "      <td>26.674000</td>\n",
       "      <td>26.674000</td>\n",
       "      <td>7.57</td>\n",
       "      <td>Afghanistan</td>\n",
       "      <td>1950</td>\n",
       "      <td>2392.0</td>\n",
       "      <td>1.949480e+10</td>\n",
       "    </tr>\n",
       "    <tr>\n",
       "      <th>4</th>\n",
       "      <td>Eastern Mediterranean</td>\n",
       "      <td>7839510.0</td>\n",
       "      <td>26.931999</td>\n",
       "      <td>26.931999</td>\n",
       "      <td>7.56</td>\n",
       "      <td>Afghanistan</td>\n",
       "      <td>1951</td>\n",
       "      <td>2422.0</td>\n",
       "      <td>2.006385e+10</td>\n",
       "    </tr>\n",
       "  </tbody>\n",
       "</table>\n",
       "</div>"
      ],
      "text/plain": [
       "              WHO region  \\\n",
       "0  Eastern Mediterranean   \n",
       "1  Eastern Mediterranean   \n",
       "2  Eastern Mediterranean   \n",
       "3  Eastern Mediterranean   \n",
       "4  Eastern Mediterranean   \n",
       "\n",
       "   Total population (Gapminder, UN Population Division)  \\\n",
       "0                                          3280000.0      \n",
       "1                                          4207000.0      \n",
       "2                                          5730000.0      \n",
       "3                                          7752118.0      \n",
       "4                                          7839510.0      \n",
       "\n",
       "   Life expectancy - interpolated (Gapminder, UN, IHME)  \\\n",
       "0                                          28.006067      \n",
       "1                                          27.493732      \n",
       "2                                          27.053127      \n",
       "3                                          26.674000      \n",
       "4                                          26.931999      \n",
       "\n",
       "   Life expectancy - non-interpolated (Gapminder, UN, IHME)  \\\n",
       "0                                                NaN          \n",
       "1                                                NaN          \n",
       "2                                                NaN          \n",
       "3                                          26.674000          \n",
       "4                                          26.931999          \n",
       "\n",
       "   Fertility rate (Complete Gapminder, v12) (2017)       Entity  Year  \\\n",
       "0                                             7.00  Afghanistan  1820   \n",
       "1                                             7.00  Afghanistan  1870   \n",
       "2                                             7.00  Afghanistan  1913   \n",
       "3                                             7.57  Afghanistan  1950   \n",
       "4                                             7.56  Afghanistan  1951   \n",
       "\n",
       "   Real GDP per capita in 2011US$, 2011 benchmark (Maddison Project Database (2018))  \\\n",
       "0                                                NaN                                   \n",
       "1                                                NaN                                   \n",
       "2                                                NaN                                   \n",
       "3                                             2392.0                                   \n",
       "4                                             2422.0                                   \n",
       "\n",
       "   Total real GDP in 2011US$, 2011 benchmark (Maddison Project Database (2018))  \n",
       "0                                                NaN                             \n",
       "1                                                NaN                             \n",
       "2                                                NaN                             \n",
       "3                                       1.949480e+10                             \n",
       "4                                       2.006385e+10                             "
      ]
     },
     "execution_count": 9,
     "metadata": {},
     "output_type": "execute_result"
    }
   ],
   "source": [
    "demo= pd.read_csv('Demographics.csv')\n",
    "demo.head()\n"
   ]
  },
  {
   "cell_type": "code",
   "execution_count": 10,
   "id": "346ac538",
   "metadata": {},
   "outputs": [
    {
     "data": {
      "text/plain": [
       "(20016, 9)"
      ]
     },
     "execution_count": 10,
     "metadata": {},
     "output_type": "execute_result"
    }
   ],
   "source": [
    "demo.shape"
   ]
  },
  {
   "cell_type": "code",
   "execution_count": 11,
   "id": "8d25f417",
   "metadata": {},
   "outputs": [
    {
     "data": {
      "text/plain": [
       "171"
      ]
     },
     "execution_count": 11,
     "metadata": {},
     "output_type": "execute_result"
    }
   ],
   "source": [
    "count = demo.Entity.unique().size\n",
    "count"
   ]
  },
  {
   "cell_type": "code",
   "execution_count": 12,
   "id": "4c7ce589",
   "metadata": {},
   "outputs": [
    {
     "data": {
      "text/plain": [
       "WHO region                                                                           4490\n",
       "Total population (Gapminder, UN Population Division)                                 4490\n",
       "Life expectancy - interpolated (Gapminder, UN, IHME)                                 4490\n",
       "Life expectancy - non-interpolated (Gapminder, UN, IHME)                             7368\n",
       "Fertility rate (Complete Gapminder, v12) (2017)                                      4490\n",
       "Entity                                                                                  0\n",
       "Year                                                                                    0\n",
       "Real GDP per capita in 2011US$, 2011 benchmark (Maddison Project Database (2018))    2304\n",
       "Total real GDP in 2011US$, 2011 benchmark (Maddison Project Database (2018))         5284\n",
       "dtype: int64"
      ]
     },
     "execution_count": 12,
     "metadata": {},
     "output_type": "execute_result"
    }
   ],
   "source": [
    "demo.isnull().sum()"
   ]
  },
  {
   "cell_type": "code",
   "execution_count": null,
   "id": "dd26435e",
   "metadata": {},
   "outputs": [],
   "source": []
  },
  {
   "cell_type": "code",
   "execution_count": 13,
   "id": "4467420f",
   "metadata": {},
   "outputs": [],
   "source": [
    "def interpolate_cols(demo, cols):\n",
    "    for col in cols:\n",
    "        demo[col] = demo.groupby('Entity')[col].apply(lambda x: x.interpolate(method= 'linear',limit_direction='both'))\n",
    "    return demo"
   ]
  },
  {
   "cell_type": "code",
   "execution_count": 14,
   "id": "19a7649e",
   "metadata": {},
   "outputs": [],
   "source": [
    "cols_to_interpolate = ['Total population (Gapminder, UN Population Division)',  'Life expectancy - interpolated (Gapminder, UN, IHME)', 'Fertility rate (Complete Gapminder, v12) (2017)','Real GDP per capita in 2011US$, 2011 benchmark (Maddison Project Database (2018))','Total real GDP in 2011US$, 2011 benchmark (Maddison Project Database (2018))','Real GDP per capita in 2011US$, 2011 benchmark (Maddison Project Database (2018))','Total real GDP in 2011US$, 2011 benchmark (Maddison Project Database (2018))']\n",
    "demo = interpolate_cols(demo, cols_to_interpolate)"
   ]
  },
  {
   "cell_type": "code",
   "execution_count": 15,
   "id": "892df22c",
   "metadata": {},
   "outputs": [
    {
     "data": {
      "text/plain": [
       "WHO region                                                                           4490\n",
       "Total population (Gapminder, UN Population Division)                                 1162\n",
       "Life expectancy - interpolated (Gapminder, UN, IHME)                                 1162\n",
       "Life expectancy - non-interpolated (Gapminder, UN, IHME)                             7368\n",
       "Fertility rate (Complete Gapminder, v12) (2017)                                      1162\n",
       "Entity                                                                                  0\n",
       "Year                                                                                    0\n",
       "Real GDP per capita in 2011US$, 2011 benchmark (Maddison Project Database (2018))     143\n",
       "Total real GDP in 2011US$, 2011 benchmark (Maddison Project Database (2018))          143\n",
       "dtype: int64"
      ]
     },
     "execution_count": 15,
     "metadata": {},
     "output_type": "execute_result"
    }
   ],
   "source": [
    "demo.isnull().sum()"
   ]
  },
  {
   "cell_type": "code",
   "execution_count": 16,
   "id": "33e505b9",
   "metadata": {},
   "outputs": [],
   "source": [
    "demo.to_csv('dempgraphics_updated.csv', index=False)"
   ]
  },
  {
   "cell_type": "markdown",
   "id": "aeacc0cd",
   "metadata": {},
   "source": [
    "For data transformation, grouped by entity and used interpolation to fill the missing values. There are few missing values even after transformation, since few countries dont have values for any years. These null values are dropped in power bi query and filtered for years after 2000."
   ]
  },
  {
   "cell_type": "code",
   "execution_count": null,
   "id": "5656b5ce",
   "metadata": {},
   "outputs": [],
   "source": []
  },
  {
   "cell_type": "code",
   "execution_count": null,
   "id": "86dbda3d",
   "metadata": {},
   "outputs": [],
   "source": []
  },
  {
   "cell_type": "code",
   "execution_count": null,
   "id": "05232295",
   "metadata": {},
   "outputs": [],
   "source": []
  },
  {
   "cell_type": "code",
   "execution_count": null,
   "id": "a2bc66f4",
   "metadata": {},
   "outputs": [],
   "source": []
  },
  {
   "cell_type": "code",
   "execution_count": null,
   "id": "7f25ac11",
   "metadata": {},
   "outputs": [],
   "source": []
  },
  {
   "cell_type": "code",
   "execution_count": null,
   "id": "f0c09495",
   "metadata": {},
   "outputs": [],
   "source": []
  },
  {
   "cell_type": "code",
   "execution_count": null,
   "id": "0e9abcf6",
   "metadata": {},
   "outputs": [],
   "source": []
  },
  {
   "cell_type": "code",
   "execution_count": null,
   "id": "ec9cfc7b",
   "metadata": {},
   "outputs": [],
   "source": []
  },
  {
   "cell_type": "code",
   "execution_count": null,
   "id": "f1ab269f",
   "metadata": {},
   "outputs": [],
   "source": []
  },
  {
   "cell_type": "code",
   "execution_count": null,
   "id": "f2409119",
   "metadata": {},
   "outputs": [],
   "source": []
  },
  {
   "cell_type": "code",
   "execution_count": null,
   "id": "7a6e29c5",
   "metadata": {},
   "outputs": [],
   "source": []
  },
  {
   "cell_type": "code",
   "execution_count": null,
   "id": "0e0e0e46",
   "metadata": {},
   "outputs": [],
   "source": []
  },
  {
   "cell_type": "code",
   "execution_count": null,
   "id": "7187f461",
   "metadata": {},
   "outputs": [],
   "source": []
  },
  {
   "cell_type": "code",
   "execution_count": null,
   "id": "28d8650a",
   "metadata": {},
   "outputs": [],
   "source": []
  }
 ],
 "metadata": {
  "kernelspec": {
   "display_name": "Python 3 (ipykernel)",
   "language": "python",
   "name": "python3"
  },
  "language_info": {
   "codemirror_mode": {
    "name": "ipython",
    "version": 3
   },
   "file_extension": ".py",
   "mimetype": "text/x-python",
   "name": "python",
   "nbconvert_exporter": "python",
   "pygments_lexer": "ipython3",
   "version": "3.9.12"
  }
 },
 "nbformat": 4,
 "nbformat_minor": 5
}

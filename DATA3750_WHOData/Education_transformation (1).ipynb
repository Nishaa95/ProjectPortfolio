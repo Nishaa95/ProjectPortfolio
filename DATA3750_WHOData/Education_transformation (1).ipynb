{
 "cells": [
  {
   "cell_type": "code",
   "execution_count": 14,
   "id": "37cc2f3b",
   "metadata": {},
   "outputs": [],
   "source": [
    "import pandas as pd\n",
    "import numpy as np"
   ]
  },
  {
   "cell_type": "code",
   "execution_count": 15,
   "id": "1bbc67c1",
   "metadata": {},
   "outputs": [
    {
     "data": {
      "text/html": [
       "<div>\n",
       "<style scoped>\n",
       "    .dataframe tbody tr th:only-of-type {\n",
       "        vertical-align: middle;\n",
       "    }\n",
       "\n",
       "    .dataframe tbody tr th {\n",
       "        vertical-align: top;\n",
       "    }\n",
       "\n",
       "    .dataframe thead th {\n",
       "        text-align: right;\n",
       "    }\n",
       "</style>\n",
       "<table border=\"1\" class=\"dataframe\">\n",
       "  <thead>\n",
       "    <tr style=\"text-align: right;\">\n",
       "      <th></th>\n",
       "      <th>Entity</th>\n",
       "      <th>Year</th>\n",
       "      <th>Expected Years of Schooling</th>\n",
       "      <th>Government expenditure on education, total (% of GDP)</th>\n",
       "      <th>Government expenditure on education, total (% of government expenditure)</th>\n",
       "      <th>Expenditure on primary education (% of government expenditure on education)</th>\n",
       "      <th>Unemployment, total (% of total labor force)</th>\n",
       "      <th>Literacy rate, adult total (% of people ages 15 and above)</th>\n",
       "      <th>Literacy rate, youth (ages 15-24), gender parity index (GPI)</th>\n",
       "    </tr>\n",
       "  </thead>\n",
       "  <tbody>\n",
       "    <tr>\n",
       "      <th>0</th>\n",
       "      <td>Arab States (UNDP)</td>\n",
       "      <td>1990</td>\n",
       "      <td>8.747189</td>\n",
       "      <td>NaN</td>\n",
       "      <td>NaN</td>\n",
       "      <td>NaN</td>\n",
       "      <td>NaN</td>\n",
       "      <td>NaN</td>\n",
       "      <td>NaN</td>\n",
       "    </tr>\n",
       "    <tr>\n",
       "      <th>1</th>\n",
       "      <td>Arab States (UNDP)</td>\n",
       "      <td>1991</td>\n",
       "      <td>8.793226</td>\n",
       "      <td>NaN</td>\n",
       "      <td>NaN</td>\n",
       "      <td>NaN</td>\n",
       "      <td>NaN</td>\n",
       "      <td>NaN</td>\n",
       "      <td>NaN</td>\n",
       "    </tr>\n",
       "    <tr>\n",
       "      <th>2</th>\n",
       "      <td>Arab States (UNDP)</td>\n",
       "      <td>1992</td>\n",
       "      <td>8.883311</td>\n",
       "      <td>NaN</td>\n",
       "      <td>NaN</td>\n",
       "      <td>NaN</td>\n",
       "      <td>NaN</td>\n",
       "      <td>NaN</td>\n",
       "      <td>NaN</td>\n",
       "    </tr>\n",
       "    <tr>\n",
       "      <th>3</th>\n",
       "      <td>Arab States (UNDP)</td>\n",
       "      <td>1993</td>\n",
       "      <td>9.001940</td>\n",
       "      <td>NaN</td>\n",
       "      <td>NaN</td>\n",
       "      <td>NaN</td>\n",
       "      <td>NaN</td>\n",
       "      <td>NaN</td>\n",
       "      <td>NaN</td>\n",
       "    </tr>\n",
       "    <tr>\n",
       "      <th>4</th>\n",
       "      <td>Arab States (UNDP)</td>\n",
       "      <td>1994</td>\n",
       "      <td>9.131453</td>\n",
       "      <td>NaN</td>\n",
       "      <td>NaN</td>\n",
       "      <td>NaN</td>\n",
       "      <td>NaN</td>\n",
       "      <td>NaN</td>\n",
       "      <td>NaN</td>\n",
       "    </tr>\n",
       "  </tbody>\n",
       "</table>\n",
       "</div>"
      ],
      "text/plain": [
       "               Entity  Year  Expected Years of Schooling  \\\n",
       "0  Arab States (UNDP)  1990                     8.747189   \n",
       "1  Arab States (UNDP)  1991                     8.793226   \n",
       "2  Arab States (UNDP)  1992                     8.883311   \n",
       "3  Arab States (UNDP)  1993                     9.001940   \n",
       "4  Arab States (UNDP)  1994                     9.131453   \n",
       "\n",
       "   Government expenditure on education, total (% of GDP)  \\\n",
       "0                                                NaN       \n",
       "1                                                NaN       \n",
       "2                                                NaN       \n",
       "3                                                NaN       \n",
       "4                                                NaN       \n",
       "\n",
       "   Government expenditure on education, total (% of government expenditure)  \\\n",
       "0                                                NaN                          \n",
       "1                                                NaN                          \n",
       "2                                                NaN                          \n",
       "3                                                NaN                          \n",
       "4                                                NaN                          \n",
       "\n",
       "   Expenditure on primary education (% of government expenditure on education)  \\\n",
       "0                                                NaN                             \n",
       "1                                                NaN                             \n",
       "2                                                NaN                             \n",
       "3                                                NaN                             \n",
       "4                                                NaN                             \n",
       "\n",
       "   Unemployment, total (% of total labor force)  \\\n",
       "0                                           NaN   \n",
       "1                                           NaN   \n",
       "2                                           NaN   \n",
       "3                                           NaN   \n",
       "4                                           NaN   \n",
       "\n",
       "   Literacy rate, adult total (% of people ages 15 and above)  \\\n",
       "0                                                NaN            \n",
       "1                                                NaN            \n",
       "2                                                NaN            \n",
       "3                                                NaN            \n",
       "4                                                NaN            \n",
       "\n",
       "   Literacy rate, youth (ages 15-24), gender parity index (GPI)  \n",
       "0                                                NaN             \n",
       "1                                                NaN             \n",
       "2                                                NaN             \n",
       "3                                                NaN             \n",
       "4                                                NaN             "
      ]
     },
     "execution_count": 15,
     "metadata": {},
     "output_type": "execute_result"
    }
   ],
   "source": [
    "df= pd.read_excel('Education_1.xlsx')\n",
    "df.head()"
   ]
  },
  {
   "cell_type": "code",
   "execution_count": 16,
   "id": "eed87486",
   "metadata": {},
   "outputs": [
    {
     "name": "stdout",
     "output_type": "stream",
     "text": [
      "<class 'pandas.core.frame.DataFrame'>\n",
      "RangeIndex: 6271 entries, 0 to 6270\n",
      "Data columns (total 9 columns):\n",
      " #   Column                                                                       Non-Null Count  Dtype  \n",
      "---  ------                                                                       --------------  -----  \n",
      " 0   Entity                                                                       6271 non-null   object \n",
      " 1   Year                                                                         6271 non-null   int64  \n",
      " 2   Expected Years of Schooling                                                  6271 non-null   float64\n",
      " 3   Government expenditure on education, total (% of GDP)                        3238 non-null   float64\n",
      " 4   Government expenditure on education, total (% of government expenditure)     3088 non-null   float64\n",
      " 5   Expenditure on primary education (% of government expenditure on education)  1664 non-null   float64\n",
      " 6   Unemployment, total (% of total labor force)                                 3025 non-null   float64\n",
      " 7   Literacy rate, adult total (% of people ages 15 and above)                   846 non-null    float64\n",
      " 8   Literacy rate, youth (ages 15-24), gender parity index (GPI)                 884 non-null    float64\n",
      "dtypes: float64(7), int64(1), object(1)\n",
      "memory usage: 441.1+ KB\n"
     ]
    }
   ],
   "source": [
    "df.info()"
   ]
  },
  {
   "cell_type": "code",
   "execution_count": 17,
   "id": "b20b588b",
   "metadata": {},
   "outputs": [
    {
     "data": {
      "text/plain": [
       "(6271, 9)"
      ]
     },
     "execution_count": 17,
     "metadata": {},
     "output_type": "execute_result"
    }
   ],
   "source": [
    "df.shape"
   ]
  },
  {
   "cell_type": "code",
   "execution_count": 18,
   "id": "4444ba77",
   "metadata": {},
   "outputs": [
    {
     "data": {
      "text/plain": [
       "Entity                                                                            0\n",
       "Year                                                                              0\n",
       "Expected Years of Schooling                                                       0\n",
       "Government expenditure on education, total (% of GDP)                          3033\n",
       "Government expenditure on education, total (% of government expenditure)       3183\n",
       "Expenditure on primary education (% of government expenditure on education)    4607\n",
       "Unemployment, total (% of total labor force)                                   3246\n",
       "Literacy rate, adult total (% of people ages 15 and above)                     5425\n",
       "Literacy rate, youth (ages 15-24), gender parity index (GPI)                   5387\n",
       "dtype: int64"
      ]
     },
     "execution_count": 18,
     "metadata": {},
     "output_type": "execute_result"
    }
   ],
   "source": [
    "df.isnull().sum()"
   ]
  },
  {
   "cell_type": "code",
   "execution_count": 19,
   "id": "2663ee5e",
   "metadata": {},
   "outputs": [],
   "source": [
    "def interpolate_cols(df, cols):\n",
    "    for col in cols:\n",
    "        df[col] = df.groupby('Entity')[col].apply(lambda x: x.interpolate(limit_direction='both'))\n",
    "    return df"
   ]
  },
  {
   "cell_type": "code",
   "execution_count": 20,
   "id": "5f3ace0c",
   "metadata": {},
   "outputs": [],
   "source": [
    "cols_to_interpolate = ['Government expenditure on education, total (% of GDP)','Government expenditure on education, total (% of government expenditure)','Expenditure on primary education (% of government expenditure on education)','Unemployment, total (% of total labor force)','Literacy rate, adult total (% of people ages 15 and above)','Literacy rate, youth (ages 15-24), gender parity index (GPI)']\n",
    "df = interpolate_cols(df, cols_to_interpolate)"
   ]
  },
  {
   "cell_type": "code",
   "execution_count": 21,
   "id": "c8f2096f",
   "metadata": {},
   "outputs": [
    {
     "data": {
      "text/plain": [
       "Entity                                                                            0\n",
       "Year                                                                              0\n",
       "Expected Years of Schooling                                                       0\n",
       "Government expenditure on education, total (% of GDP)                          1119\n",
       "Government expenditure on education, total (% of government expenditure)       1173\n",
       "Expenditure on primary education (% of government expenditure on education)    1652\n",
       "Unemployment, total (% of total labor force)                                   1193\n",
       "Literacy rate, adult total (% of people ages 15 and above)                     1955\n",
       "Literacy rate, youth (ages 15-24), gender parity index (GPI)                   2002\n",
       "dtype: int64"
      ]
     },
     "execution_count": 21,
     "metadata": {},
     "output_type": "execute_result"
    }
   ],
   "source": [
    "df.isnull().sum()"
   ]
  },
  {
   "cell_type": "code",
   "execution_count": 22,
   "id": "fb0ae923",
   "metadata": {},
   "outputs": [],
   "source": [
    "#df= df[df['Year']>=2000]"
   ]
  },
  {
   "cell_type": "code",
   "execution_count": 23,
   "id": "62e9363a",
   "metadata": {},
   "outputs": [
    {
     "data": {
      "text/plain": [
       "Entity                                                                            0\n",
       "Year                                                                              0\n",
       "Expected Years of Schooling                                                       0\n",
       "Government expenditure on education, total (% of GDP)                          1119\n",
       "Government expenditure on education, total (% of government expenditure)       1173\n",
       "Expenditure on primary education (% of government expenditure on education)    1652\n",
       "Unemployment, total (% of total labor force)                                   1193\n",
       "Literacy rate, adult total (% of people ages 15 and above)                     1955\n",
       "Literacy rate, youth (ages 15-24), gender parity index (GPI)                   2002\n",
       "dtype: int64"
      ]
     },
     "execution_count": 23,
     "metadata": {},
     "output_type": "execute_result"
    }
   ],
   "source": [
    "df.isnull().sum()"
   ]
  },
  {
   "cell_type": "code",
   "execution_count": 24,
   "id": "08ace28e",
   "metadata": {},
   "outputs": [
    {
     "data": {
      "text/plain": [
       "204"
      ]
     },
     "execution_count": 24,
     "metadata": {},
     "output_type": "execute_result"
    }
   ],
   "source": [
    "count = df.Entity.unique().size\n",
    "count"
   ]
  },
  {
   "cell_type": "code",
   "execution_count": 26,
   "id": "c1eaaab1",
   "metadata": {},
   "outputs": [],
   "source": [
    "df.to_csv('Education_fi.csv', index=False)"
   ]
  },
  {
   "cell_type": "markdown",
   "id": "c08f1f5a",
   "metadata": {},
   "source": [
    "For data transformation, grouped by entity and used interpolation to fill the missing values. There are few missing values even after transformation, since few countries dont have values for any years. Some of the null values are dropped in power bi query and some are left as it is since removing all null values affects countries from demographics dataset and also dataset is filtered for years after 2000."
   ]
  }
 ],
 "metadata": {
  "kernelspec": {
   "display_name": "Python 3 (ipykernel)",
   "language": "python",
   "name": "python3"
  },
  "language_info": {
   "codemirror_mode": {
    "name": "ipython",
    "version": 3
   },
   "file_extension": ".py",
   "mimetype": "text/x-python",
   "name": "python",
   "nbconvert_exporter": "python",
   "pygments_lexer": "ipython3",
   "version": "3.9.12"
  }
 },
 "nbformat": 4,
 "nbformat_minor": 5
}
